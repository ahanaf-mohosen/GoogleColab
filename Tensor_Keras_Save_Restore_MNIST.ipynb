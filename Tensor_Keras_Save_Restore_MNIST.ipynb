{
  "nbformat": 4,
  "nbformat_minor": 0,
  "metadata": {
    "colab": {
      "provenance": []
    },
    "kernelspec": {
      "name": "python3",
      "display_name": "Python 3"
    },
    "language_info": {
      "name": "python"
    }
  },
  "cells": [
    {
      "cell_type": "markdown",
      "source": [
        "#**TensorFlow Tensors, Keras Functional API, Model Save & Restore (MNIST Version)**"
      ],
      "metadata": {
        "id": "a7rKqMsd00iN"
      }
    },
    {
      "cell_type": "markdown",
      "source": [
        "## 1. Tensor Basics"
      ],
      "metadata": {
        "id": "xhu9D7aL2MaA"
      }
    },
    {
      "cell_type": "code",
      "execution_count": 2,
      "metadata": {
        "colab": {
          "base_uri": "https://localhost:8080/"
        },
        "id": "ANCnhuNd0CfI",
        "outputId": "adf74c68-a962-49f9-e80a-e058ccb52517"
      },
      "outputs": [
        {
          "output_type": "stream",
          "name": "stdout",
          "text": [
            "Scalar: 7\n",
            "Vector: [1 2 3]\n",
            "Matrix:\n",
            " [[1 2]\n",
            " [3 4]]\n",
            "\n",
            "Added vector: [5 7 9]\n",
            "Subtracted vector: [0 1 2]\n",
            "Multiplied matrix:\n",
            " [[2 4]\n",
            " [6 8]]\n",
            "Divided matrix:\n",
            " [[0.5 1. ]\n",
            " [1.5 2. ]]\n",
            "Matrix multiplication:\n",
            " [[19 22]\n",
            " [43 50]]\n",
            "Powered matrix:\n",
            " [[ 1  4]\n",
            " [ 9 16]]\n",
            "Transposed matrix:\n",
            " [[1 3]\n",
            " [2 4]]\n",
            "Reshaped matrix:\n",
            " [[1]\n",
            " [2]\n",
            " [3]\n",
            " [4]]\n",
            "Sum of all elements: 10\n",
            "Mean of all elements: 2.5\n",
            "Max value: 4\n",
            "Min value: 1\n",
            "Broadcast addition:\n",
            " [[11 12]\n",
            " [23 24]]\n"
          ]
        }
      ],
      "source": [
        "import tensorflow as tf\n",
        "\n",
        "# Create tensors\n",
        "scalar = tf.constant(7)\n",
        "vector = tf.constant([1, 2, 3])\n",
        "matrix = tf.constant([[1, 2], [3, 4]])\n",
        "\n",
        "print(\"Scalar:\", scalar.numpy())\n",
        "print(\"Vector:\", vector.numpy())\n",
        "print(\"Matrix:\\n\", matrix.numpy())\n",
        "\n",
        "# Tensor operations\n",
        "added = tf.add(vector, [4, 5, 6])\n",
        "subtracted = tf.subtract(vector, [1, 1, 1])\n",
        "multiplied = tf.multiply(matrix, 2)\n",
        "divided = tf.divide(matrix, 2)\n",
        "\n",
        "# Matrix multiplication\n",
        "matmul_result = tf.matmul(matrix, [[5, 6], [7, 8]])\n",
        "\n",
        "# Element-wise power\n",
        "powered = tf.pow(matrix, 2)\n",
        "\n",
        "# Transpose\n",
        "transposed = tf.transpose(matrix)\n",
        "\n",
        "# Reshape\n",
        "reshaped = tf.reshape(matrix, [4, 1])\n",
        "\n",
        "# Reduction operations\n",
        "sum_all = tf.reduce_sum(matrix)\n",
        "mean_all = tf.reduce_mean(tf.cast(matrix, tf.float32))\n",
        "max_val = tf.reduce_max(matrix)\n",
        "min_val = tf.reduce_min(matrix)\n",
        "\n",
        "# Broadcasting example\n",
        "broadcast_add = tf.add(matrix, [[10], [20]])\n",
        "\n",
        "# Display results\n",
        "print(\"\\nAdded vector:\", added.numpy())\n",
        "print(\"Subtracted vector:\", subtracted.numpy())\n",
        "print(\"Multiplied matrix:\\n\", multiplied.numpy())\n",
        "print(\"Divided matrix:\\n\", divided.numpy())\n",
        "print(\"Matrix multiplication:\\n\", matmul_result.numpy())\n",
        "print(\"Powered matrix:\\n\", powered.numpy())\n",
        "print(\"Transposed matrix:\\n\", transposed.numpy())\n",
        "print(\"Reshaped matrix:\\n\", reshaped.numpy())\n",
        "print(\"Sum of all elements:\", sum_all.numpy())\n",
        "print(\"Mean of all elements:\", mean_all.numpy())\n",
        "print(\"Max value:\", max_val.numpy())\n",
        "print(\"Min value:\", min_val.numpy())\n",
        "print(\"Broadcast addition:\\n\", broadcast_add.numpy())\n"
      ]
    },
    {
      "cell_type": "markdown",
      "source": [
        "## 2. Tensor Fundamentals — Shapes, Dtypes, and Gradients"
      ],
      "metadata": {
        "id": "WGDPMTCK2Pny"
      }
    },
    {
      "cell_type": "code",
      "source": [
        "import numpy as np\n",
        "\n",
        "a = tf.constant([[1, 2], [3, 4]], dtype=tf.int32)\n",
        "b = tf.constant([[0.5, 0.25], [0.75, 1.0]], dtype=tf.float32)\n",
        "c = tf.convert_to_tensor(np.arange(12).reshape(3, 4), dtype=tf.float32)\n",
        "\n",
        "print('Tensor a:', a)\n",
        "print('Tensor b dtype:', b.dtype, 'shape:', b.shape)\n",
        "print('Tensor c shape & values:\\n', c.numpy())\n",
        "\n",
        "# Broadcasting example\n",
        "x = tf.constant([[1., 2.], [3., 4.]])\n",
        "y = tf.constant([[5.], [6.]])  # Will broadcast to match x's shape\n",
        "\n",
        "print('x + y (broadcasted):\\n', (x + y).numpy())\n",
        "print('Matrix multiplication (x @ x):\\n', tf.matmul(x, x).numpy())\n",
        "\n",
        "# Gradient example\n",
        "x_var = tf.Variable([[1., 2.], [3., 4.]])\n",
        "with tf.GradientTape() as tape:\n",
        "    y_grad = tf.reduce_sum(x_var ** 2)\n",
        "dy_dx = tape.gradient(y_grad, x_var)\n",
        "print('dy/dx =\\n', dy_dx.numpy())"
      ],
      "metadata": {
        "colab": {
          "base_uri": "https://localhost:8080/"
        },
        "id": "PxFsBFqS2v5h",
        "outputId": "8880c861-eb58-4e64-e843-a9387a1db0d6"
      },
      "execution_count": 3,
      "outputs": [
        {
          "output_type": "stream",
          "name": "stdout",
          "text": [
            "Tensor a: tf.Tensor(\n",
            "[[1 2]\n",
            " [3 4]], shape=(2, 2), dtype=int32)\n",
            "Tensor b dtype: <dtype: 'float32'> shape: (2, 2)\n",
            "Tensor c shape & values:\n",
            " [[ 0.  1.  2.  3.]\n",
            " [ 4.  5.  6.  7.]\n",
            " [ 8.  9. 10. 11.]]\n",
            "x + y (broadcasted):\n",
            " [[ 6.  7.]\n",
            " [ 9. 10.]]\n",
            "Matrix multiplication (x @ x):\n",
            " [[ 7. 10.]\n",
            " [15. 22.]]\n",
            "dy/dx =\n",
            " [[2. 4.]\n",
            " [6. 8.]]\n"
          ]
        }
      ]
    },
    {
      "cell_type": "markdown",
      "source": [
        "## 3. Build MNIST Model using Keras Functional API"
      ],
      "metadata": {
        "id": "YH0tu9_4kw03"
      }
    },
    {
      "cell_type": "code",
      "source": [
        "import matplotlib.pyplot as plt\n",
        "from tensorflow import keras\n",
        "from tensorflow.keras import layers\n",
        "\n",
        "# Load MNIST dataset\n",
        "(x_train, y_train), (x_test, y_test) = keras.datasets.mnist.load_data()\n",
        "\n",
        "# Normalize data\n",
        "x_train = x_train.astype('float32') / 255.0\n",
        "x_test = x_test.astype('float32') / 255.0\n",
        "\n",
        "# Build model\n",
        "inputs = keras.Input(shape=(28, 28), name='input_layer')\n",
        "x = layers.Flatten()(inputs)\n",
        "x = layers.Dense(128, activation='relu')(x)\n",
        "x = layers.Dropout(0.3)(x)\n",
        "x = layers.Dense(64, activation='relu')(x)\n",
        "outputs = layers.Dense(10, activation='softmax', name='output_layer')(x)\n",
        "\n",
        "model = keras.Model(inputs=inputs, outputs=outputs, name='mnist_functional_model')\n",
        "model.summary()\n",
        "\n",
        "# Compile and Train\n",
        "model.compile(optimizer='adam',\n",
        "              loss='sparse_categorical_crossentropy',\n",
        "              metrics=['accuracy'])\n",
        "\n",
        "history = model.fit(x_train, y_train, epochs=5, batch_size=64, validation_split=0.1)\n",
        "\n",
        "# Evaluate Model\n",
        "test_loss, test_acc = model.evaluate(x_test, y_test, verbose=2)\n",
        "print(f\"Test accuracy: {test_acc:.4f}\")\n",
        "\n",
        "# Plot Training History\n",
        "plt.plot(history.history['accuracy'], label='Train Accuracy')\n",
        "plt.plot(history.history['val_accuracy'], label='Validation Accuracy')\n",
        "plt.title('Training vs Validation Accuracy')\n",
        "plt.xlabel('Epoch')\n",
        "plt.ylabel('Accuracy')\n",
        "plt.legend()\n",
        "plt.show()\n"
      ],
      "metadata": {
        "colab": {
          "base_uri": "https://localhost:8080/",
          "height": 1000
        },
        "id": "4N3i-_PXk_0f",
        "outputId": "0e039106-6b98-44bf-ab4d-a9d7280c87df"
      },
      "execution_count": 5,
      "outputs": [
        {
          "output_type": "display_data",
          "data": {
            "text/plain": [
              "\u001b[1mModel: \"mnist_functional_model\"\u001b[0m\n"
            ],
            "text/html": [
              "<pre style=\"white-space:pre;overflow-x:auto;line-height:normal;font-family:Menlo,'DejaVu Sans Mono',consolas,'Courier New',monospace\"><span style=\"font-weight: bold\">Model: \"mnist_functional_model\"</span>\n",
              "</pre>\n"
            ]
          },
          "metadata": {}
        },
        {
          "output_type": "display_data",
          "data": {
            "text/plain": [
              "┏━━━━━━━━━━━━━━━━━━━━━━━━━━━━━━━━━┳━━━━━━━━━━━━━━━━━━━━━━━━┳━━━━━━━━━━━━━━━┓\n",
              "┃\u001b[1m \u001b[0m\u001b[1mLayer (type)                   \u001b[0m\u001b[1m \u001b[0m┃\u001b[1m \u001b[0m\u001b[1mOutput Shape          \u001b[0m\u001b[1m \u001b[0m┃\u001b[1m \u001b[0m\u001b[1m      Param #\u001b[0m\u001b[1m \u001b[0m┃\n",
              "┡━━━━━━━━━━━━━━━━━━━━━━━━━━━━━━━━━╇━━━━━━━━━━━━━━━━━━━━━━━━╇━━━━━━━━━━━━━━━┩\n",
              "│ input_layer (\u001b[38;5;33mInputLayer\u001b[0m)        │ (\u001b[38;5;45mNone\u001b[0m, \u001b[38;5;34m28\u001b[0m, \u001b[38;5;34m28\u001b[0m)         │             \u001b[38;5;34m0\u001b[0m │\n",
              "├─────────────────────────────────┼────────────────────────┼───────────────┤\n",
              "│ flatten_2 (\u001b[38;5;33mFlatten\u001b[0m)             │ (\u001b[38;5;45mNone\u001b[0m, \u001b[38;5;34m784\u001b[0m)            │             \u001b[38;5;34m0\u001b[0m │\n",
              "├─────────────────────────────────┼────────────────────────┼───────────────┤\n",
              "│ dense_4 (\u001b[38;5;33mDense\u001b[0m)                 │ (\u001b[38;5;45mNone\u001b[0m, \u001b[38;5;34m128\u001b[0m)            │       \u001b[38;5;34m100,480\u001b[0m │\n",
              "├─────────────────────────────────┼────────────────────────┼───────────────┤\n",
              "│ dropout_2 (\u001b[38;5;33mDropout\u001b[0m)             │ (\u001b[38;5;45mNone\u001b[0m, \u001b[38;5;34m128\u001b[0m)            │             \u001b[38;5;34m0\u001b[0m │\n",
              "├─────────────────────────────────┼────────────────────────┼───────────────┤\n",
              "│ dense_5 (\u001b[38;5;33mDense\u001b[0m)                 │ (\u001b[38;5;45mNone\u001b[0m, \u001b[38;5;34m64\u001b[0m)             │         \u001b[38;5;34m8,256\u001b[0m │\n",
              "├─────────────────────────────────┼────────────────────────┼───────────────┤\n",
              "│ output_layer (\u001b[38;5;33mDense\u001b[0m)            │ (\u001b[38;5;45mNone\u001b[0m, \u001b[38;5;34m10\u001b[0m)             │           \u001b[38;5;34m650\u001b[0m │\n",
              "└─────────────────────────────────┴────────────────────────┴───────────────┘\n"
            ],
            "text/html": [
              "<pre style=\"white-space:pre;overflow-x:auto;line-height:normal;font-family:Menlo,'DejaVu Sans Mono',consolas,'Courier New',monospace\">┏━━━━━━━━━━━━━━━━━━━━━━━━━━━━━━━━━┳━━━━━━━━━━━━━━━━━━━━━━━━┳━━━━━━━━━━━━━━━┓\n",
              "┃<span style=\"font-weight: bold\"> Layer (type)                    </span>┃<span style=\"font-weight: bold\"> Output Shape           </span>┃<span style=\"font-weight: bold\">       Param # </span>┃\n",
              "┡━━━━━━━━━━━━━━━━━━━━━━━━━━━━━━━━━╇━━━━━━━━━━━━━━━━━━━━━━━━╇━━━━━━━━━━━━━━━┩\n",
              "│ input_layer (<span style=\"color: #0087ff; text-decoration-color: #0087ff\">InputLayer</span>)        │ (<span style=\"color: #00d7ff; text-decoration-color: #00d7ff\">None</span>, <span style=\"color: #00af00; text-decoration-color: #00af00\">28</span>, <span style=\"color: #00af00; text-decoration-color: #00af00\">28</span>)         │             <span style=\"color: #00af00; text-decoration-color: #00af00\">0</span> │\n",
              "├─────────────────────────────────┼────────────────────────┼───────────────┤\n",
              "│ flatten_2 (<span style=\"color: #0087ff; text-decoration-color: #0087ff\">Flatten</span>)             │ (<span style=\"color: #00d7ff; text-decoration-color: #00d7ff\">None</span>, <span style=\"color: #00af00; text-decoration-color: #00af00\">784</span>)            │             <span style=\"color: #00af00; text-decoration-color: #00af00\">0</span> │\n",
              "├─────────────────────────────────┼────────────────────────┼───────────────┤\n",
              "│ dense_4 (<span style=\"color: #0087ff; text-decoration-color: #0087ff\">Dense</span>)                 │ (<span style=\"color: #00d7ff; text-decoration-color: #00d7ff\">None</span>, <span style=\"color: #00af00; text-decoration-color: #00af00\">128</span>)            │       <span style=\"color: #00af00; text-decoration-color: #00af00\">100,480</span> │\n",
              "├─────────────────────────────────┼────────────────────────┼───────────────┤\n",
              "│ dropout_2 (<span style=\"color: #0087ff; text-decoration-color: #0087ff\">Dropout</span>)             │ (<span style=\"color: #00d7ff; text-decoration-color: #00d7ff\">None</span>, <span style=\"color: #00af00; text-decoration-color: #00af00\">128</span>)            │             <span style=\"color: #00af00; text-decoration-color: #00af00\">0</span> │\n",
              "├─────────────────────────────────┼────────────────────────┼───────────────┤\n",
              "│ dense_5 (<span style=\"color: #0087ff; text-decoration-color: #0087ff\">Dense</span>)                 │ (<span style=\"color: #00d7ff; text-decoration-color: #00d7ff\">None</span>, <span style=\"color: #00af00; text-decoration-color: #00af00\">64</span>)             │         <span style=\"color: #00af00; text-decoration-color: #00af00\">8,256</span> │\n",
              "├─────────────────────────────────┼────────────────────────┼───────────────┤\n",
              "│ output_layer (<span style=\"color: #0087ff; text-decoration-color: #0087ff\">Dense</span>)            │ (<span style=\"color: #00d7ff; text-decoration-color: #00d7ff\">None</span>, <span style=\"color: #00af00; text-decoration-color: #00af00\">10</span>)             │           <span style=\"color: #00af00; text-decoration-color: #00af00\">650</span> │\n",
              "└─────────────────────────────────┴────────────────────────┴───────────────┘\n",
              "</pre>\n"
            ]
          },
          "metadata": {}
        },
        {
          "output_type": "display_data",
          "data": {
            "text/plain": [
              "\u001b[1m Total params: \u001b[0m\u001b[38;5;34m109,386\u001b[0m (427.29 KB)\n"
            ],
            "text/html": [
              "<pre style=\"white-space:pre;overflow-x:auto;line-height:normal;font-family:Menlo,'DejaVu Sans Mono',consolas,'Courier New',monospace\"><span style=\"font-weight: bold\"> Total params: </span><span style=\"color: #00af00; text-decoration-color: #00af00\">109,386</span> (427.29 KB)\n",
              "</pre>\n"
            ]
          },
          "metadata": {}
        },
        {
          "output_type": "display_data",
          "data": {
            "text/plain": [
              "\u001b[1m Trainable params: \u001b[0m\u001b[38;5;34m109,386\u001b[0m (427.29 KB)\n"
            ],
            "text/html": [
              "<pre style=\"white-space:pre;overflow-x:auto;line-height:normal;font-family:Menlo,'DejaVu Sans Mono',consolas,'Courier New',monospace\"><span style=\"font-weight: bold\"> Trainable params: </span><span style=\"color: #00af00; text-decoration-color: #00af00\">109,386</span> (427.29 KB)\n",
              "</pre>\n"
            ]
          },
          "metadata": {}
        },
        {
          "output_type": "display_data",
          "data": {
            "text/plain": [
              "\u001b[1m Non-trainable params: \u001b[0m\u001b[38;5;34m0\u001b[0m (0.00 B)\n"
            ],
            "text/html": [
              "<pre style=\"white-space:pre;overflow-x:auto;line-height:normal;font-family:Menlo,'DejaVu Sans Mono',consolas,'Courier New',monospace\"><span style=\"font-weight: bold\"> Non-trainable params: </span><span style=\"color: #00af00; text-decoration-color: #00af00\">0</span> (0.00 B)\n",
              "</pre>\n"
            ]
          },
          "metadata": {}
        },
        {
          "output_type": "stream",
          "name": "stdout",
          "text": [
            "Epoch 1/5\n",
            "\u001b[1m844/844\u001b[0m \u001b[32m━━━━━━━━━━━━━━━━━━━━\u001b[0m\u001b[37m\u001b[0m \u001b[1m5s\u001b[0m 5ms/step - accuracy: 0.8095 - loss: 0.6373 - val_accuracy: 0.9662 - val_loss: 0.1203\n",
            "Epoch 2/5\n",
            "\u001b[1m844/844\u001b[0m \u001b[32m━━━━━━━━━━━━━━━━━━━━\u001b[0m\u001b[37m\u001b[0m \u001b[1m4s\u001b[0m 4ms/step - accuracy: 0.9449 - loss: 0.1885 - val_accuracy: 0.9733 - val_loss: 0.0966\n",
            "Epoch 3/5\n",
            "\u001b[1m844/844\u001b[0m \u001b[32m━━━━━━━━━━━━━━━━━━━━\u001b[0m\u001b[37m\u001b[0m \u001b[1m5s\u001b[0m 6ms/step - accuracy: 0.9585 - loss: 0.1375 - val_accuracy: 0.9735 - val_loss: 0.0842\n",
            "Epoch 4/5\n",
            "\u001b[1m844/844\u001b[0m \u001b[32m━━━━━━━━━━━━━━━━━━━━\u001b[0m\u001b[37m\u001b[0m \u001b[1m4s\u001b[0m 4ms/step - accuracy: 0.9627 - loss: 0.1168 - val_accuracy: 0.9752 - val_loss: 0.0782\n",
            "Epoch 5/5\n",
            "\u001b[1m844/844\u001b[0m \u001b[32m━━━━━━━━━━━━━━━━━━━━\u001b[0m\u001b[37m\u001b[0m \u001b[1m4s\u001b[0m 4ms/step - accuracy: 0.9697 - loss: 0.0953 - val_accuracy: 0.9782 - val_loss: 0.0769\n",
            "313/313 - 1s - 3ms/step - accuracy: 0.9735 - loss: 0.0869\n",
            "Test accuracy: 0.9735\n"
          ]
        },
        {
          "output_type": "display_data",
          "data": {
            "text/plain": [
              "<Figure size 640x480 with 1 Axes>"
            ],
            "image/png": "[encoded data removed]"
          },
          "metadata": {}
        }
      ]
    },
    {
      "cell_type": "markdown",
      "source": [
        "## 4. Save and Restore Models"
      ],
      "metadata": {
        "id": "GoN0pDoHBkV5"
      }
    },
    {
      "cell_type": "code",
      "source": [
        "from google.colab import drive\n",
        "drive.mount('/content/drive')\n",
        "\n",
        "# Save the model to Google Drive\n",
        "save_path = '/content/drive/MyDrive/model.keras'\n",
        "model.save(save_path)\n",
        "print(f' Model saved successfully to {save_path}')\n",
        "\n",
        "# Load the model to Google Drive\n",
        "load_path = '/content/drive/MyDrive/model.keras'\n",
        "loaded_model = keras.models.load_model(load_path)\n",
        "print(' Model loaded successfully from Drive.')"
      ],
      "metadata": {
        "colab": {
          "base_uri": "https://localhost:8080/"
        },
        "id": "-xd9hBgdFMO0",
        "outputId": "da50f718-674d-4d53-f384-6f51b9f0aa28"
      },
      "execution_count": 9,
      "outputs": [
        {
          "output_type": "stream",
          "name": "stdout",
          "text": [
            "Mounted at /content/drive\n",
            " Model saved successfully to /content/drive/MyDrive/model.keras\n",
            " Model loaded successfully from Drive.\n"
          ]
        }
      ]
    },
    {
      "cell_type": "markdown",
      "source": [
        "## 5. Model Checkpoints"
      ],
      "metadata": {
        "id": "ab8Z93WdGF26"
      }
    },
    {
      "cell_type": "code",
      "source": [
        "import os\n",
        "\n",
        "save_dir = os.path.dirname(save_path)\n",
        "checkpoint_path = os.path.join(save_dir, 'training_checkpoints', 'cp.weights.h5')\n",
        "checkpoint_dir = os.path.dirname(checkpoint_path)\n",
        "\n",
        "cp_callback = keras.callbacks.ModelCheckpoint(filepath=checkpoint_path,\n",
        "                                              save_weights_only=True,\n",
        "                                              verbose=1,\n",
        "                                              save_freq='epoch')\n",
        "\n",
        "# Train again for demonstration\n",
        "model.fit(x_train, y_train, epochs=2, batch_size=64, callbacks=[cp_callback])\n",
        "\n",
        "latest_checkpoint = tf.train.latest_checkpoint(checkpoint_dir)\n",
        "print('Latest checkpoint:', latest_checkpoint)\n",
        "\n",
        "if latest_checkpoint:\n",
        "    model.load_weights(latest_checkpoint)\n",
        "    loss, acc = model.evaluate(x_test, y_test, verbose=0)\n",
        "    print(f\"Restored checkpoint model accuracy: {acc:.4f}\")\n",
        "else:\n",
        "    print(\"No checkpoint found in the specified directory.\")"
      ],
      "metadata": {
        "colab": {
          "base_uri": "https://localhost:8080/"
        },
        "id": "NNKYmfcDFcgG",
        "outputId": "47fab5cc-f726-4e16-e443-3b6cfb1e445b"
      },
      "execution_count": 10,
      "outputs": [
        {
          "output_type": "stream",
          "name": "stdout",
          "text": [
            "Epoch 1/2\n",
            "\u001b[1m933/938\u001b[0m \u001b[32m━━━━━━━━━━━━━━━━━━━\u001b[0m\u001b[37m━\u001b[0m \u001b[1m0s\u001b[0m 4ms/step - accuracy: 0.9710 - loss: 0.0918\n",
            "Epoch 1: saving model to /content/drive/MyDrive/training_checkpoints/cp.weights.h5\n",
            "\u001b[1m938/938\u001b[0m \u001b[32m━━━━━━━━━━━━━━━━━━━━\u001b[0m\u001b[37m\u001b[0m \u001b[1m4s\u001b[0m 4ms/step - accuracy: 0.9710 - loss: 0.0918\n",
            "Epoch 2/2\n",
            "\u001b[1m929/938\u001b[0m \u001b[32m━━━━━━━━━━━━━━━━━━━\u001b[0m\u001b[37m━\u001b[0m \u001b[1m0s\u001b[0m 6ms/step - accuracy: 0.9725 - loss: 0.0867\n",
            "Epoch 2: saving model to /content/drive/MyDrive/training_checkpoints/cp.weights.h5\n",
            "\u001b[1m938/938\u001b[0m \u001b[32m━━━━━━━━━━━━━━━━━━━━\u001b[0m\u001b[37m\u001b[0m \u001b[1m6s\u001b[0m 6ms/step - accuracy: 0.9725 - loss: 0.0867\n",
            "Latest checkpoint: None\n",
            "No checkpoint found in the specified directory.\n"
          ]
        }
      ]
    },
    {
      "cell_type": "markdown",
      "source": [
        "# 6. Exercises"
      ],
      "metadata": {
        "id": "86FqQygrGsWy"
      }
    },
    {
      "cell_type": "markdown",
      "source": [
        "### 1. Add Batch Normalization layers and compare accuracy"
      ],
      "metadata": {
        "id": "qoHgQGKiG3zl"
      }
    },
    {
      "cell_type": "code",
      "source": [
        "from tensorflow import keras\n",
        "from tensorflow.keras import layers\n",
        "\n",
        "# Build model with Batch Normalization\n",
        "inputs = keras.Input(shape=(28, 28), name='input_layer')\n",
        "x = layers.Flatten()(inputs)\n",
        "x = layers.Dense(128, activation='relu')(x)\n",
        "x = layers.BatchNormalization()(x)   # Added\n",
        "x = layers.Dropout(0.3)(x)\n",
        "x = layers.Dense(64, activation='relu')(x)\n",
        "x = layers.BatchNormalization()(x)   # Added\n",
        "outputs = layers.Dense(10, activation='softmax')(x)\n",
        "\n",
        "model_bn = keras.Model(inputs, outputs, name='mnist_bn_model')\n",
        "\n",
        "model_bn.compile(optimizer='adam',\n",
        "                 loss='sparse_categorical_crossentropy',\n",
        "                 metrics=['accuracy'])\n",
        "\n",
        "history_bn = model_bn.fit(x_train, y_train, epochs=5, batch_size=64, validation_split=0.1)\n",
        "\n",
        "test_loss, test_acc = model_bn.evaluate(x_test, y_test)\n",
        "print(f\"Test accuracy with Batch Normalization: {test_acc:.4f}\")\n"
      ],
      "metadata": {
        "colab": {
          "base_uri": "https://localhost:8080/"
        },
        "id": "E-UgJXm9GwZK",
        "outputId": "996389a6-82fb-49d3-f30e-2002d5b0bf50"
      },
      "execution_count": 11,
      "outputs": [
        {
          "output_type": "stream",
          "name": "stdout",
          "text": [
            "Epoch 1/5\n",
            "\u001b[1m844/844\u001b[0m \u001b[32m━━━━━━━━━━━━━━━━━━━━\u001b[0m\u001b[37m\u001b[0m \u001b[1m6s\u001b[0m 5ms/step - accuracy: 0.8261 - loss: 0.5760 - val_accuracy: 0.9650 - val_loss: 0.1202\n",
            "Epoch 2/5\n",
            "\u001b[1m844/844\u001b[0m \u001b[32m━━━━━━━━━━━━━━━━━━━━\u001b[0m\u001b[37m\u001b[0m \u001b[1m6s\u001b[0m 7ms/step - accuracy: 0.9435 - loss: 0.1869 - val_accuracy: 0.9720 - val_loss: 0.0894\n",
            "Epoch 3/5\n",
            "\u001b[1m844/844\u001b[0m \u001b[32m━━━━━━━━━━━━━━━━━━━━\u001b[0m\u001b[37m\u001b[0m \u001b[1m4s\u001b[0m 5ms/step - accuracy: 0.9556 - loss: 0.1433 - val_accuracy: 0.9730 - val_loss: 0.0903\n",
            "Epoch 4/5\n",
            "\u001b[1m844/844\u001b[0m \u001b[32m━━━━━━━━━━━━━━━━━━━━\u001b[0m\u001b[37m\u001b[0m \u001b[1m5s\u001b[0m 6ms/step - accuracy: 0.9631 - loss: 0.1187 - val_accuracy: 0.9793 - val_loss: 0.0696\n",
            "Epoch 5/5\n",
            "\u001b[1m844/844\u001b[0m \u001b[32m━━━━━━━━━━━━━━━━━━━━\u001b[0m\u001b[37m\u001b[0m \u001b[1m6s\u001b[0m 6ms/step - accuracy: 0.9661 - loss: 0.1081 - val_accuracy: 0.9787 - val_loss: 0.0702\n",
            "\u001b[1m313/313\u001b[0m \u001b[32m━━━━━━━━━━━━━━━━━━━━\u001b[0m\u001b[37m\u001b[0m \u001b[1m1s\u001b[0m 2ms/step - accuracy: 0.9697 - loss: 0.0901\n",
            "Test accuracy with Batch Normalization: 0.9749\n"
          ]
        }
      ]
    },
    {
      "cell_type": "markdown",
      "source": [
        "### 2. Try using SGD and RMSprop optimizers"
      ],
      "metadata": {
        "id": "cytJhmPGHJ9T"
      }
    },
    {
      "cell_type": "code",
      "source": [
        "optimizers = {\n",
        "    'Adam': keras.optimizers.Adam(),\n",
        "    'SGD': keras.optimizers.SGD(learning_rate=0.01, momentum=0.9),\n",
        "    'RMSprop': keras.optimizers.RMSprop(learning_rate=0.001)\n",
        "}\n",
        "\n",
        "for name, opt in optimizers.items():\n",
        "    print(f\"\\n=== Training with {name} Optimizer ===\")\n",
        "    model_opt = keras.models.clone_model(model_bn)  # Reuse same architecture\n",
        "    model_opt.compile(optimizer=opt,\n",
        "                      loss='sparse_categorical_crossentropy',\n",
        "                      metrics=['accuracy'])\n",
        "    model_opt.fit(x_train, y_train, epochs=3, batch_size=64, validation_split=0.1, verbose=1)\n",
        "    _, acc = model_opt.evaluate(x_test, y_test, verbose=0)\n",
        "    print(f\"{name} Test Accuracy: {acc:.4f}\")\n"
      ],
      "metadata": {
        "colab": {
          "base_uri": "https://localhost:8080/"
        },
        "id": "0N8poD65HM8C",
        "outputId": "0d063166-926a-4fa1-ad42-d2dd1b27e0dd"
      },
      "execution_count": 12,
      "outputs": [
        {
          "output_type": "stream",
          "name": "stdout",
          "text": [
            "\n",
            "=== Training with Adam Optimizer ===\n",
            "Epoch 1/3\n",
            "\u001b[1m844/844\u001b[0m \u001b[32m━━━━━━━━━━━━━━━━━━━━\u001b[0m\u001b[37m\u001b[0m \u001b[1m6s\u001b[0m 5ms/step - accuracy: 0.8281 - loss: 0.5623 - val_accuracy: 0.9692 - val_loss: 0.1118\n",
            "Epoch 2/3\n",
            "\u001b[1m844/844\u001b[0m \u001b[32m━━━━━━━━━━━━━━━━━━━━\u001b[0m\u001b[37m\u001b[0m \u001b[1m6s\u001b[0m 7ms/step - accuracy: 0.9434 - loss: 0.1851 - val_accuracy: 0.9707 - val_loss: 0.0985\n",
            "Epoch 3/3\n",
            "\u001b[1m844/844\u001b[0m \u001b[32m━━━━━━━━━━━━━━━━━━━━\u001b[0m\u001b[37m\u001b[0m \u001b[1m4s\u001b[0m 5ms/step - accuracy: 0.9574 - loss: 0.1400 - val_accuracy: 0.9795 - val_loss: 0.0752\n",
            "Adam Test Accuracy: 0.9729\n",
            "\n",
            "=== Training with SGD Optimizer ===\n",
            "Epoch 1/3\n",
            "\u001b[1m844/844\u001b[0m \u001b[32m━━━━━━━━━━━━━━━━━━━━\u001b[0m\u001b[37m\u001b[0m \u001b[1m8s\u001b[0m 7ms/step - accuracy: 0.8315 - loss: 0.5482 - val_accuracy: 0.9628 - val_loss: 0.1266\n",
            "Epoch 2/3\n",
            "\u001b[1m844/844\u001b[0m \u001b[32m━━━━━━━━━━━━━━━━━━━━\u001b[0m\u001b[37m\u001b[0m \u001b[1m4s\u001b[0m 4ms/step - accuracy: 0.9394 - loss: 0.2007 - val_accuracy: 0.9712 - val_loss: 0.1003\n",
            "Epoch 3/3\n",
            "\u001b[1m844/844\u001b[0m \u001b[32m━━━━━━━━━━━━━━━━━━━━\u001b[0m\u001b[37m\u001b[0m \u001b[1m4s\u001b[0m 5ms/step - accuracy: 0.9514 - loss: 0.1608 - val_accuracy: 0.9757 - val_loss: 0.0835\n",
            "SGD Test Accuracy: 0.9709\n",
            "\n",
            "=== Training with RMSprop Optimizer ===\n",
            "Epoch 1/3\n",
            "\u001b[1m844/844\u001b[0m \u001b[32m━━━━━━━━━━━━━━━━━━━━\u001b[0m\u001b[37m\u001b[0m \u001b[1m7s\u001b[0m 6ms/step - accuracy: 0.8479 - loss: 0.5114 - val_accuracy: 0.9595 - val_loss: 0.1351\n",
            "Epoch 2/3\n",
            "\u001b[1m844/844\u001b[0m \u001b[32m━━━━━━━━━━━━━━━━━━━━\u001b[0m\u001b[37m\u001b[0m \u001b[1m4s\u001b[0m 5ms/step - accuracy: 0.9447 - loss: 0.1834 - val_accuracy: 0.9720 - val_loss: 0.0950\n",
            "Epoch 3/3\n",
            "\u001b[1m844/844\u001b[0m \u001b[32m━━━━━━━━━━━━━━━━━━━━\u001b[0m\u001b[37m\u001b[0m \u001b[1m4s\u001b[0m 5ms/step - accuracy: 0.9563 - loss: 0.1407 - val_accuracy: 0.9767 - val_loss: 0.0872\n",
            "RMSprop Test Accuracy: 0.9723\n"
          ]
        }
      ]
    },
    {
      "cell_type": "markdown",
      "source": [
        "### 3. Add a skip connection between layers in the model"
      ],
      "metadata": {
        "id": "yH0hYe8UHUA2"
      }
    },
    {
      "cell_type": "code",
      "source": [
        "# Skip connection model\n",
        "inputs = keras.Input(shape=(28, 28))\n",
        "x = layers.Flatten()(inputs)\n",
        "dense1 = layers.Dense(128, activation='relu')(x)\n",
        "dense2 = layers.Dense(64, activation='relu')(dense1)\n",
        "skip_added = layers.add([dense2, layers.Dense(64, activation='relu')(dense1)])  # Skip connection\n",
        "outputs = layers.Dense(10, activation='softmax')(skip_added)\n",
        "\n",
        "model_skip = keras.Model(inputs, outputs, name='mnist_skip_model')\n",
        "\n",
        "model_skip.compile(optimizer='adam',\n",
        "                   loss='sparse_categorical_crossentropy',\n",
        "                   metrics=['accuracy'])\n",
        "\n",
        "history_skip = model_skip.fit(x_train, y_train, epochs=5, batch_size=64, validation_split=0.1)\n",
        "test_loss, test_acc = model_skip.evaluate(x_test, y_test)\n",
        "print(f\"Test accuracy with Skip Connection: {test_acc:.4f}\")\n"
      ],
      "metadata": {
        "colab": {
          "base_uri": "https://localhost:8080/"
        },
        "id": "WganiEJ1HXKv",
        "outputId": "acf64eb9-0b0f-4b50-a1a9-578b2fd691be"
      },
      "execution_count": 13,
      "outputs": [
        {
          "output_type": "stream",
          "name": "stdout",
          "text": [
            "Epoch 1/5\n",
            "\u001b[1m844/844\u001b[0m \u001b[32m━━━━━━━━━━━━━━━━━━━━\u001b[0m\u001b[37m\u001b[0m \u001b[1m6s\u001b[0m 6ms/step - accuracy: 0.8554 - loss: 0.4890 - val_accuracy: 0.9667 - val_loss: 0.1129\n",
            "Epoch 2/5\n",
            "\u001b[1m844/844\u001b[0m \u001b[32m━━━━━━━━━━━━━━━━━━━━\u001b[0m\u001b[37m\u001b[0m \u001b[1m4s\u001b[0m 5ms/step - accuracy: 0.9657 - loss: 0.1125 - val_accuracy: 0.9712 - val_loss: 0.0912\n",
            "Epoch 3/5\n",
            "\u001b[1m844/844\u001b[0m \u001b[32m━━━━━━━━━━━━━━━━━━━━\u001b[0m\u001b[37m\u001b[0m \u001b[1m5s\u001b[0m 6ms/step - accuracy: 0.9778 - loss: 0.0714 - val_accuracy: 0.9768 - val_loss: 0.0774\n",
            "Epoch 4/5\n",
            "\u001b[1m844/844\u001b[0m \u001b[32m━━━━━━━━━━━━━━━━━━━━\u001b[0m\u001b[37m\u001b[0m \u001b[1m8s\u001b[0m 10ms/step - accuracy: 0.9832 - loss: 0.0548 - val_accuracy: 0.9787 - val_loss: 0.0740\n",
            "Epoch 5/5\n",
            "\u001b[1m844/844\u001b[0m \u001b[32m━━━━━━━━━━━━━━━━━━━━\u001b[0m\u001b[37m\u001b[0m \u001b[1m5s\u001b[0m 6ms/step - accuracy: 0.9875 - loss: 0.0395 - val_accuracy: 0.9788 - val_loss: 0.0816\n",
            "\u001b[1m313/313\u001b[0m \u001b[32m━━━━━━━━━━━━━━━━━━━━\u001b[0m\u001b[37m\u001b[0m \u001b[1m1s\u001b[0m 2ms/step - accuracy: 0.9702 - loss: 0.1019\n",
            "Test accuracy with Skip Connection: 0.9756\n"
          ]
        }
      ]
    },
    {
      "cell_type": "markdown",
      "source": [
        "### 4. Save and restore only the weights instead of the full model"
      ],
      "metadata": {
        "id": "eLC0vqqEHiwW"
      }
    },
    {
      "cell_type": "code",
      "source": [
        "# Save only weights\n",
        "weights_path = 'mnist_weights_only.weights.h5'\n",
        "model_bn.save_weights(weights_path)\n",
        "print(f\"Weights saved to {weights_path}\")\n",
        "\n",
        "# Create a new model with same architecture\n",
        "model_reloaded = keras.models.clone_model(model_bn)\n",
        "model_reloaded.compile(optimizer='adam',\n",
        "                       loss='sparse_categorical_crossentropy',\n",
        "                       metrics=['accuracy'])\n",
        "\n",
        "# Load saved weights\n",
        "model_reloaded.load_weights(weights_path)\n",
        "print(\"Weights loaded successfully.\")\n",
        "\n",
        "# Evaluate reloaded model\n",
        "loss, acc = model_reloaded.evaluate(x_test, y_test)\n",
        "print(f\"Restored Weights Model Accuracy: {acc:.4f}\")\n"
      ],
      "metadata": {
        "colab": {
          "base_uri": "https://localhost:8080/"
        },
        "id": "PGL_-ycmHkVQ",
        "outputId": "d4f5b7b9-e5fc-4378-f30d-b433d7010a2d"
      },
      "execution_count": 14,
      "outputs": [
        {
          "output_type": "stream",
          "name": "stdout",
          "text": [
            "Weights saved to mnist_weights_only.weights.h5\n",
            "Weights loaded successfully.\n"
          ]
        },
        {
          "output_type": "stream",
          "name": "stderr",
          "text": [
            "/usr/local/lib/python3.12/dist-packages/keras/src/saving/saving_lib.py:802: UserWarning: Skipping variable loading for optimizer 'adam', because it has 2 variables whereas the saved optimizer has 22 variables. \n",
            "  saveable.load_own_variables(weights_store.get(inner_path))\n"
          ]
        },
        {
          "output_type": "stream",
          "name": "stdout",
          "text": [
            "\u001b[1m313/313\u001b[0m \u001b[32m━━━━━━━━━━━━━━━━━━━━\u001b[0m\u001b[37m\u001b[0m \u001b[1m1s\u001b[0m 2ms/step - accuracy: 0.9697 - loss: 0.0901\n",
            "Restored Weights Model Accuracy: 0.9749\n"
          ]
        }
      ]
    }
  ]
}