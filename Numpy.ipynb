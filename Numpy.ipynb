{
  "nbformat": 4,
  "nbformat_minor": 0,
  "metadata": {
    "colab": {
      "provenance": []
    },
    "kernelspec": {
      "name": "python3",
      "display_name": "Python 3"
    },
    "language_info": {
      "name": "python"
    }
  },
  "cells": [
    {
      "cell_type": "markdown",
      "metadata": {
        "id": "b3222ec1"
      },
      "source": [
        "# 1. Import numpy and print version"
      ]
    },
    {
      "cell_type": "code",
      "metadata": {
        "colab": {
          "base_uri": "https://localhost:8080/"
        },
        "id": "626da1ca",
        "outputId": "15fd02d4-9619-4870-e7fd-e254eece3d51"
      },
      "source": [
        "import numpy as np\n",
        "print(np.__version__)"
      ],
      "execution_count": 1,
      "outputs": [
        {
          "output_type": "stream",
          "name": "stdout",
          "text": [
            "2.0.2\n"
          ]
        }
      ]
    },
    {
      "cell_type": "markdown",
      "metadata": {
        "id": "6bf326ad"
      },
      "source": [
        "## 2. Create 1d array"
      ]
    },
    {
      "cell_type": "code",
      "metadata": {
        "colab": {
          "base_uri": "https://localhost:8080/"
        },
        "id": "585441f6",
        "outputId": "b70913e2-a4c3-40b0-cd35-03b54b8f90dc"
      },
      "source": [
        "arr = np.arange(10)\n",
        "print(arr)"
      ],
      "execution_count": 2,
      "outputs": [
        {
          "output_type": "stream",
          "name": "stdout",
          "text": [
            "[0 1 2 3 4 5 6 7 8 9]\n"
          ]
        }
      ]
    },
    {
      "cell_type": "markdown",
      "metadata": {
        "id": "7c9d5891"
      },
      "source": [
        "## 3. Create 3x3 boolean array\n",
        "\n"
      ]
    },
    {
      "cell_type": "code",
      "metadata": {
        "colab": {
          "base_uri": "https://localhost:8080/"
        },
        "id": "781cbc7d",
        "outputId": "bb6ab3b5-ddf9-44f1-decc-b60c7faa4e2f"
      },
      "source": [
        "bool_array = np.full((3, 3), True, dtype=bool)\n",
        "print(bool_array)"
      ],
      "execution_count": 3,
      "outputs": [
        {
          "output_type": "stream",
          "name": "stdout",
          "text": [
            "[[ True  True  True]\n",
            " [ True  True  True]\n",
            " [ True  True  True]]\n"
          ]
        }
      ]
    },
    {
      "cell_type": "markdown",
      "metadata": {
        "id": "fbf140e5"
      },
      "source": [
        "## 4. Extract odd numbers"
      ]
    },
    {
      "cell_type": "code",
      "metadata": {
        "colab": {
          "base_uri": "https://localhost:8080/"
        },
        "id": "4f34314a",
        "outputId": "0cce05a8-8c6e-4758-e009-870e23e5b896"
      },
      "source": [
        "odd_numbers = arr[arr % 2 != 0]\n",
        "print(odd_numbers)"
      ],
      "execution_count": 4,
      "outputs": [
        {
          "output_type": "stream",
          "name": "stdout",
          "text": [
            "[1 3 5 7 9]\n"
          ]
        }
      ]
    },
    {
      "cell_type": "markdown",
      "metadata": {
        "id": "a5e34103"
      },
      "source": [
        "## 5. Replace odd numbers in arr\n"
      ]
    },
    {
      "cell_type": "code",
      "metadata": {
        "colab": {
          "base_uri": "https://localhost:8080/"
        },
        "id": "34233e84",
        "outputId": "757b6277-fe9d-4db3-b4e3-44b31560be77"
      },
      "source": [
        "arr[arr % 2 != 0] = -1\n",
        "print(arr)"
      ],
      "execution_count": 5,
      "outputs": [
        {
          "output_type": "stream",
          "name": "stdout",
          "text": [
            "[ 0 -1  2 -1  4 -1  6 -1  8 -1]\n"
          ]
        }
      ]
    },
    {
      "cell_type": "markdown",
      "metadata": {
        "id": "901eb650"
      },
      "source": [
        "## 6. Replace odd numbers without changing arr\n"
      ]
    },
    {
      "cell_type": "code",
      "metadata": {
        "colab": {
          "base_uri": "https://localhost:8080/"
        },
        "id": "4af38b23",
        "outputId": "88d55379-0a4d-483a-c0d1-310aa0232351"
      },
      "source": [
        "arr_copy = arr.copy()\n",
        "arr_copy[arr_copy % 2 != 0] = -1\n",
        "print(\"New array with odd numbers replaced:\")\n",
        "print(arr_copy)\n",
        "print(\"Original array:\")\n",
        "print(arr)"
      ],
      "execution_count": 6,
      "outputs": [
        {
          "output_type": "stream",
          "name": "stdout",
          "text": [
            "New array with odd numbers replaced:\n",
            "[ 0 -1  2 -1  4 -1  6 -1  8 -1]\n",
            "Original array:\n",
            "[ 0 -1  2 -1  4 -1  6 -1  8 -1]\n"
          ]
        }
      ]
    },
    {
      "cell_type": "markdown",
      "metadata": {
        "id": "fc42a9cb"
      },
      "source": [
        "## 7. Convert 1d to 2d array\n"
      ]
    },
    {
      "cell_type": "code",
      "metadata": {
        "colab": {
          "base_uri": "https://localhost:8080/"
        },
        "id": "d194f540",
        "outputId": "5c682d11-a9b2-4bf3-a302-53f9e298fb42"
      },
      "source": [
        "arr_1d = np.arange(10)\n",
        "arr_2d = arr_1d.reshape(2, -1)\n",
        "print(arr_2d)"
      ],
      "execution_count": 7,
      "outputs": [
        {
          "output_type": "stream",
          "name": "stdout",
          "text": [
            "[[0 1 2 3 4]\n",
            " [5 6 7 8 9]]\n"
          ]
        }
      ]
    },
    {
      "cell_type": "markdown",
      "metadata": {
        "id": "b27e6f05"
      },
      "source": [
        "## 8. Stack arrays vertically\n"
      ]
    },
    {
      "cell_type": "code",
      "metadata": {
        "colab": {
          "base_uri": "https://localhost:8080/"
        },
        "id": "db6f4d19",
        "outputId": "cce8189c-f3f1-49c8-ba2d-5622d28c9ae6"
      },
      "source": [
        "a = np.arange(10).reshape(2,-1)\n",
        "b = np.repeat(1, 10).reshape(2,-1)\n",
        "stacked_array = np.vstack((a, b))\n",
        "print(stacked_array)"
      ],
      "execution_count": 8,
      "outputs": [
        {
          "output_type": "stream",
          "name": "stdout",
          "text": [
            "[[0 1 2 3 4]\n",
            " [5 6 7 8 9]\n",
            " [1 1 1 1 1]\n",
            " [1 1 1 1 1]]\n"
          ]
        }
      ]
    },
    {
      "cell_type": "markdown",
      "metadata": {
        "id": "01c2730b"
      },
      "source": [
        "## 9. Stack arrays horizontally\n"
      ]
    },
    {
      "cell_type": "code",
      "metadata": {
        "colab": {
          "base_uri": "https://localhost:8080/"
        },
        "id": "d3bc1f7c",
        "outputId": "83c3ff05-1e8d-4c0a-dae9-8be5ec7d6881"
      },
      "source": [
        "a = np.arange(10).reshape(2,-1)\n",
        "b = np.repeat(1, 10).reshape(2,-1)\n",
        "horizontal_stacked_array = np.hstack((a, b))\n",
        "print(horizontal_stacked_array)"
      ],
      "execution_count": 9,
      "outputs": [
        {
          "output_type": "stream",
          "name": "stdout",
          "text": [
            "[[0 1 2 3 4 1 1 1 1 1]\n",
            " [5 6 7 8 9 1 1 1 1 1]]\n"
          ]
        }
      ]
    },
    {
      "cell_type": "markdown",
      "metadata": {
        "id": "cfd4a2cb"
      },
      "source": [
        "## 10. Create pattern"
      ]
    },
    {
      "cell_type": "code",
      "metadata": {
        "colab": {
          "base_uri": "https://localhost:8080/"
        },
        "id": "7f9338bb",
        "outputId": "fda9331f-43fa-4282-845e-e2e2dcb64b99"
      },
      "source": [
        "a = np.array([1,2,3])\n",
        "pattern = np.tile(np.repeat(a, 3), 2)\n",
        "print(pattern)"
      ],
      "execution_count": 20,
      "outputs": [
        {
          "output_type": "stream",
          "name": "stdout",
          "text": [
            "[1 1 1 2 2 2 3 3 3 1 1 1 2 2 2 3 3 3]\n"
          ]
        }
      ]
    },
    {
      "cell_type": "markdown",
      "metadata": {
        "id": "22a76a3c"
      },
      "source": [
        "## 11. Get common items"
      ]
    },
    {
      "cell_type": "code",
      "metadata": {
        "colab": {
          "base_uri": "https://localhost:8080/"
        },
        "id": "04eb7170",
        "outputId": "23a5eafe-3fa2-4300-886c-2284c35cdf5c"
      },
      "source": [
        "a = np.array([1,2,3,2,3,4,3,4,5,6])\n",
        "b = np.array([7,2,10,2,7,4,9,4,9,8])\n",
        "common_items = np.intersect1d(a, b)\n",
        "print(common_items)"
      ],
      "execution_count": 21,
      "outputs": [
        {
          "output_type": "stream",
          "name": "stdout",
          "text": [
            "[2 4]\n"
          ]
        }
      ]
    },
    {
      "cell_type": "markdown",
      "metadata": {
        "id": "31fcf69b"
      },
      "source": [
        "## 12. Remove items"
      ]
    },
    {
      "cell_type": "code",
      "metadata": {
        "colab": {
          "base_uri": "https://localhost:8080/"
        },
        "id": "5a4419db",
        "outputId": "fea4bbb3-111a-4918-fb6e-c464d076b2ef"
      },
      "source": [
        "a = np.array([1,2,3,4,5])\n",
        "b = np.array([5,6,7,8,9])\n",
        "items_to_remove = np.isin(a, b)\n",
        "new_a = a[~items_to_remove]\n",
        "print(new_a)"
      ],
      "execution_count": 23,
      "outputs": [
        {
          "output_type": "stream",
          "name": "stdout",
          "text": [
            "[1 2 3 4]\n"
          ]
        }
      ]
    },
    {
      "cell_type": "markdown",
      "metadata": {
        "id": "7ed88cf6"
      },
      "source": [
        "## 13. Get matching positions"
      ]
    },
    {
      "cell_type": "code",
      "metadata": {
        "colab": {
          "base_uri": "https://localhost:8080/"
        },
        "id": "bad33cdc",
        "outputId": "2fd89a13-e721-4293-927a-e6e01a59f11b"
      },
      "source": [
        "a = np.array([1,2,3,2,3,4,3,4,5,6])\n",
        "b = np.array([7,2,10,2,7,4,9,4,9,8])\n",
        "matching_positions = np.where(a == b)\n",
        "print(matching_positions)"
      ],
      "execution_count": 24,
      "outputs": [
        {
          "output_type": "stream",
          "name": "stdout",
          "text": [
            "(array([1, 3, 5, 7]),)\n"
          ]
        }
      ]
    },
    {
      "cell_type": "markdown",
      "metadata": {
        "id": "6d6b54e9"
      },
      "source": [
        "## 14. Get all items between 5 and 10 from a"
      ]
    },
    {
      "cell_type": "code",
      "metadata": {
        "colab": {
          "base_uri": "https://localhost:8080/"
        },
        "id": "7f4126be",
        "outputId": "6e211d82-e631-48e4-d874-721affa9b092"
      },
      "source": [
        "a = np.array([2, 6, 1, 9, 10, 3, 27])\n",
        "items_between_5_and_10 = a[(a >= 5) & (a <= 10)]\n",
        "print(items_between_5_and_10)"
      ],
      "execution_count": 25,
      "outputs": [
        {
          "output_type": "stream",
          "name": "stdout",
          "text": [
            "[ 6  9 10]\n"
          ]
        }
      ]
    },
    {
      "cell_type": "markdown",
      "metadata": {
        "id": "dbc302b2"
      },
      "source": [
        "## 15. Swap columns 1 and 2 in the array arr"
      ]
    },
    {
      "cell_type": "code",
      "metadata": {
        "colab": {
          "base_uri": "https://localhost:8080/"
        },
        "id": "9bd227cf",
        "outputId": "a0716c9e-6348-4942-8b23-65ad7fe78cd2"
      },
      "source": [
        "arr = np.arange(9).reshape(3,3)\n",
        "arr[:, [1, 2]] = arr[:, [2, 1]]\n",
        "print(arr)"
      ],
      "execution_count": 26,
      "outputs": [
        {
          "output_type": "stream",
          "name": "stdout",
          "text": [
            "[[0 2 1]\n",
            " [3 5 4]\n",
            " [6 8 7]]\n"
          ]
        }
      ]
    },
    {
      "cell_type": "markdown",
      "metadata": {
        "id": "38b81a65"
      },
      "source": [
        "## 16. Swap rows 1 and 2 in the array arr"
      ]
    },
    {
      "cell_type": "code",
      "metadata": {
        "colab": {
          "base_uri": "https://localhost:8080/"
        },
        "id": "da65ee9a",
        "outputId": "5553d282-4dfb-4823-c40c-ebc75dcffade"
      },
      "source": [
        "arr = np.arange(9).reshape(3,3)\n",
        "arr[[1, 2], :] = arr[[2, 1], :]\n",
        "print(arr)"
      ],
      "execution_count": 27,
      "outputs": [
        {
          "output_type": "stream",
          "name": "stdout",
          "text": [
            "[[0 1 2]\n",
            " [6 7 8]\n",
            " [3 4 5]]\n"
          ]
        }
      ]
    },
    {
      "cell_type": "markdown",
      "metadata": {
        "id": "e921eafa"
      },
      "source": [
        "## 17. Reverse the rows of a 2D array arr"
      ]
    },
    {
      "cell_type": "code",
      "metadata": {
        "colab": {
          "base_uri": "https://localhost:8080/"
        },
        "id": "c016e6d1",
        "outputId": "b1c27ac5-d93a-46ae-c518-7e9f5e5c8d44"
      },
      "source": [
        "arr = np.arange(9).reshape(3,3)\n",
        "reversed_arr = arr[::-1, :]\n",
        "print(reversed_arr)"
      ],
      "execution_count": 28,
      "outputs": [
        {
          "output_type": "stream",
          "name": "stdout",
          "text": [
            "[[6 7 8]\n",
            " [3 4 5]\n",
            " [0 1 2]]\n"
          ]
        }
      ]
    },
    {
      "cell_type": "markdown",
      "metadata": {
        "id": "94ae6e3b"
      },
      "source": [
        "## 18. Reverse the columns of a 2D array arr"
      ]
    },
    {
      "cell_type": "code",
      "metadata": {
        "colab": {
          "base_uri": "https://localhost:8080/"
        },
        "id": "74ee2ba6",
        "outputId": "9264934f-0190-4e19-9bab-79acbc38b733"
      },
      "source": [
        "arr = np.arange(9).reshape(3,3)\n",
        "reversed_cols_arr = arr[:, ::-1]\n",
        "print(reversed_cols_arr)"
      ],
      "execution_count": 29,
      "outputs": [
        {
          "output_type": "stream",
          "name": "stdout",
          "text": [
            "[[2 1 0]\n",
            " [5 4 3]\n",
            " [8 7 6]]\n"
          ]
        }
      ]
    },
    {
      "cell_type": "markdown",
      "metadata": {
        "id": "2994a835"
      },
      "source": [
        "## 19. Create a 2D array of shape 5x3 to contain random decimal numbers between 5 and 10."
      ]
    },
    {
      "cell_type": "code",
      "metadata": {
        "colab": {
          "base_uri": "https://localhost:8080/"
        },
        "id": "d8f13b72",
        "outputId": "174f155e-adef-4586-ec19-9cdc1813af6a"
      },
      "source": [
        "rand_arr = 5 + (np.random.random((5, 3)) * 5)\n",
        "print(rand_arr)"
      ],
      "execution_count": 30,
      "outputs": [
        {
          "output_type": "stream",
          "name": "stdout",
          "text": [
            "[[8.23976424 9.60572958 6.85819553]\n",
            " [5.72976436 7.83246208 6.07808441]\n",
            " [7.21299209 9.95413878 7.13786841]\n",
            " [5.27212243 5.15725835 5.63527756]\n",
            " [6.33486956 9.99566544 5.49635711]]\n"
          ]
        }
      ]
    },
    {
      "cell_type": "markdown",
      "metadata": {
        "id": "af90a85b"
      },
      "source": [
        "## 20. Print or show only 3 decimal places of the numpy array rand_arr."
      ]
    },
    {
      "cell_type": "code",
      "metadata": {
        "colab": {
          "base_uri": "https://localhost:8080/"
        },
        "id": "a03f5f8d",
        "outputId": "10ce5c71-d5a9-4ab1-e762-a0589cb753a1"
      },
      "source": [
        "np.set_printoptions(precision=3)\n",
        "print(rand_arr)"
      ],
      "execution_count": 32,
      "outputs": [
        {
          "output_type": "stream",
          "name": "stdout",
          "text": [
            "[[8.24  9.606 6.858]\n",
            " [5.73  7.832 6.078]\n",
            " [7.213 9.954 7.138]\n",
            " [5.272 5.157 5.635]\n",
            " [6.335 9.996 5.496]]\n"
          ]
        }
      ]
    },
    {
      "cell_type": "markdown",
      "metadata": {
        "id": "ba9c564d"
      },
      "source": [
        "## 21. Pretty print rand_arr by suppressing the scientific notation"
      ]
    },
    {
      "cell_type": "code",
      "metadata": {
        "colab": {
          "base_uri": "https://localhost:8080/"
        },
        "id": "46889e5d",
        "outputId": "f430f9f5-7aa3-4028-9cf6-048773ac44c6"
      },
      "source": [
        "np.set_printoptions(suppress=True)\n",
        "print(rand_arr)"
      ],
      "execution_count": 35,
      "outputs": [
        {
          "output_type": "stream",
          "name": "stdout",
          "text": [
            "[[8.24  9.606 6.858]\n",
            " [5.73  7.832 6.078]\n",
            " [7.213 9.954 7.138]\n",
            " [5.272 5.157 5.635]\n",
            " [6.335 9.996 5.496]]\n"
          ]
        }
      ]
    },
    {
      "cell_type": "markdown",
      "metadata": {
        "id": "2d6bc415"
      },
      "source": [
        "## 22. Limit the number of items printed in python numpy array a to a maximum of 6 elements."
      ]
    },
    {
      "cell_type": "code",
      "metadata": {
        "colab": {
          "base_uri": "https://localhost:8080/"
        },
        "id": "52e1214f",
        "outputId": "9180df85-ef58-45b5-ab16-d9d6a279e956"
      },
      "source": [
        "a = np.arange(15)\n",
        "np.set_printoptions(threshold=6)\n",
        "print(a)"
      ],
      "execution_count": 36,
      "outputs": [
        {
          "output_type": "stream",
          "name": "stdout",
          "text": [
            "[ 0  1  2 ... 12 13 14]\n"
          ]
        }
      ]
    },
    {
      "cell_type": "markdown",
      "metadata": {
        "id": "e145ff1c"
      },
      "source": [
        "## 23. Print the full numpy array a without truncating."
      ]
    },
    {
      "cell_type": "code",
      "metadata": {
        "colab": {
          "base_uri": "https://localhost:8080/"
        },
        "id": "2785e43a",
        "outputId": "56ae1b58-17a2-4f55-a0fb-b06e0dbaaa0a"
      },
      "source": [
        "np.set_printoptions(threshold=np.inf)\n",
        "a = np.arange(15)\n",
        "print(a)"
      ],
      "execution_count": 37,
      "outputs": [
        {
          "output_type": "stream",
          "name": "stdout",
          "text": [
            "[ 0  1  2  3  4  5  6  7  8  9 10 11 12 13 14]\n"
          ]
        }
      ]
    },
    {
      "cell_type": "markdown",
      "metadata": {
        "id": "1f61067f"
      },
      "source": [
        "## 24. Import the iris dataset keeping the text intact."
      ]
    },
    {
      "cell_type": "code",
      "metadata": {
        "colab": {
          "base_uri": "https://localhost:8080/"
        },
        "id": "4f43e0b2",
        "outputId": "2bbce9cd-df3e-4be9-bfa4-08c128f2b861"
      },
      "source": [
        "url = 'https://archive.ics.uci.edu/ml/machine-learning-databases/iris/iris.data'\n",
        "iris = np.genfromtxt(url, delimiter=',', dtype='object')\n",
        "names = ('sepallength', 'sepalwidth', 'petallength', 'petalwidth', 'species')\n",
        "print(iris[:5]) # Display the first 5 rows to verify"
      ],
      "execution_count": 38,
      "outputs": [
        {
          "output_type": "stream",
          "name": "stdout",
          "text": [
            "[[b'5.1' b'3.5' b'1.4' b'0.2' b'Iris-setosa']\n",
            " [b'4.9' b'3.0' b'1.4' b'0.2' b'Iris-setosa']\n",
            " [b'4.7' b'3.2' b'1.3' b'0.2' b'Iris-setosa']\n",
            " [b'4.6' b'3.1' b'1.5' b'0.2' b'Iris-setosa']\n",
            " [b'5.0' b'3.6' b'1.4' b'0.2' b'Iris-setosa']]\n"
          ]
        }
      ]
    },
    {
      "cell_type": "markdown",
      "metadata": {
        "id": "eef75915"
      },
      "source": [
        "## 25. Extract the text column species from the 1D iris imported in previous question."
      ]
    },
    {
      "cell_type": "code",
      "metadata": {
        "colab": {
          "base_uri": "https://localhost:8080/"
        },
        "id": "4686e7aa",
        "outputId": "8eb17893-77cc-44cc-e8d6-1c11784495ec"
      },
      "source": [
        "species = iris[:, 4]\n",
        "print(species[:5]) # Display the first 5 elements to verify"
      ],
      "execution_count": 39,
      "outputs": [
        {
          "output_type": "stream",
          "name": "stdout",
          "text": [
            "[b'Iris-setosa' b'Iris-setosa' b'Iris-setosa' b'Iris-setosa'\n",
            " b'Iris-setosa']\n"
          ]
        }
      ]
    },
    {
      "cell_type": "markdown",
      "metadata": {
        "id": "e7632cdc"
      },
      "source": [
        "## 26. Convert the 1D iris to 2D array iris_2d by omitting the species text field."
      ]
    },
    {
      "cell_type": "code",
      "metadata": {
        "colab": {
          "base_uri": "https://localhost:8080/"
        },
        "id": "2af0bc12",
        "outputId": "902a0082-f3c4-412e-f7c0-1d6dfdfc2a84"
      },
      "source": [
        "iris_2d = iris[:, :4].astype('float')\n",
        "print(iris_2d[:5]) # Display the first 5 rows to verify"
      ],
      "execution_count": 40,
      "outputs": [
        {
          "output_type": "stream",
          "name": "stdout",
          "text": [
            "[[5.1 3.5 1.4 0.2]\n",
            " [4.9 3.  1.4 0.2]\n",
            " [4.7 3.2 1.3 0.2]\n",
            " [4.6 3.1 1.5 0.2]\n",
            " [5.  3.6 1.4 0.2]]\n"
          ]
        }
      ]
    },
    {
      "cell_type": "markdown",
      "metadata": {
        "id": "b1cce29b"
      },
      "source": [
        "## 27. Find the mean, median, standard deviation of iris's sepallength (1st column)."
      ]
    },
    {
      "cell_type": "code",
      "metadata": {
        "colab": {
          "base_uri": "https://localhost:8080/"
        },
        "id": "ae7228be",
        "outputId": "e797d7e7-b334-4ea9-9e70-a0a4f2c3907d"
      },
      "source": [
        "sepallength = iris_2d[:, 0] # Extract the first column (sepallength)\n",
        "\n",
        "mean_sepallength = np.mean(sepallength)\n",
        "median_sepallength = np.median(sepallength)\n",
        "std_sepallength = np.std(sepallength)\n",
        "\n",
        "print(f\"Mean of sepallength: {mean_sepallength:.2f}\")\n",
        "print(f\"Median of sepallength: {median_sepallength:.2f}\")\n",
        "print(f\"Standard deviation of sepallength: {std_sepallength:.2f}\")"
      ],
      "execution_count": 41,
      "outputs": [
        {
          "output_type": "stream",
          "name": "stdout",
          "text": [
            "Mean of sepallength: 5.84\n",
            "Median of sepallength: 5.80\n",
            "Standard deviation of sepallength: 0.83\n"
          ]
        }
      ]
    },
    {
      "cell_type": "markdown",
      "metadata": {
        "id": "ac433454"
      },
      "source": [
        "## 28. Create a normalized form of iris's sepallength whose values range exactly between 0 and 1 so that the minimum has value 0 and maximum has value 1."
      ]
    },
    {
      "cell_type": "code",
      "metadata": {
        "colab": {
          "base_uri": "https://localhost:8080/"
        },
        "id": "86809cd9",
        "outputId": "36909116-2388-4335-b5ad-7267e7898724"
      },
      "source": [
        "# Min-Max Normalization\n",
        "min_val = np.min(sepallength)\n",
        "max_val = np.max(sepallength)\n",
        "normalized_sepallength = (sepallength - min_val) / (max_val - min_val)\n",
        "\n",
        "print(\"Normalized sepallength (first 10 values):\")\n",
        "print(normalized_sepallength[:10])"
      ],
      "execution_count": 42,
      "outputs": [
        {
          "output_type": "stream",
          "name": "stdout",
          "text": [
            "Normalized sepallength (first 10 values):\n",
            "[0.222 0.167 0.111 0.083 0.194 0.306 0.083 0.194 0.028 0.167]\n"
          ]
        }
      ]
    },
    {
      "cell_type": "markdown",
      "metadata": {
        "id": "9ced49d4"
      },
      "source": [
        "## 29. Find the 5th and 95th percentile of iris's sepallength."
      ]
    },
    {
      "cell_type": "code",
      "metadata": {
        "colab": {
          "base_uri": "https://localhost:8080/"
        },
        "id": "56593a14",
        "outputId": "91735545-29af-4630-df50-b4c7f673487e"
      },
      "source": [
        "percentile_5 = np.percentile(sepallength, 5)\n",
        "percentile_95 = np.percentile(sepallength, 95)\n",
        "\n",
        "print(f\"5th percentile of sepallength: {percentile_5:.2f}\")\n",
        "print(f\"95th percentile of sepallength: {percentile_95:.2f}\")"
      ],
      "execution_count": 43,
      "outputs": [
        {
          "output_type": "stream",
          "name": "stdout",
          "text": [
            "5th percentile of sepallength: 4.60\n",
            "95th percentile of sepallength: 7.25\n"
          ]
        }
      ]
    },
    {
      "cell_type": "markdown",
      "metadata": {
        "id": "41591dcd"
      },
      "source": [
        "## 30. Insert np.nan values at 20 random positions in iris_2d dataset"
      ]
    },
    {
      "cell_type": "code",
      "metadata": {
        "colab": {
          "base_uri": "https://localhost:8080/"
        },
        "id": "7dcbfafa",
        "outputId": "8f46e4cf-8e5f-4edf-ced5-bc81d6ec0054"
      },
      "source": [
        "iris_nan = iris_2d.copy()\n",
        "\n",
        "# Get the total number of elements in the array\n",
        "total_elements = iris_nan.size\n",
        "\n",
        "# Generate 20 random indices\n",
        "random_indices = np.random.choice(total_elements, 20, replace=False)\n",
        "\n",
        "# Convert the flat indices to 2D indices\n",
        "row_indices, col_indices = np.unravel_index(random_indices, iris_nan.shape)\n",
        "\n",
        "# Insert np.nan at the random positions\n",
        "iris_nan[row_indices, col_indices] = np.nan\n",
        "\n",
        "print(\"Iris dataset with 20 random NaN values (first 10 rows):\")\n",
        "print(iris_nan[:10])"
      ],
      "execution_count": 44,
      "outputs": [
        {
          "output_type": "stream",
          "name": "stdout",
          "text": [
            "Iris dataset with 20 random NaN values (first 10 rows):\n",
            "[[5.1 3.5 1.4 0.2]\n",
            " [4.9 3.  1.4 0.2]\n",
            " [nan 3.2 1.3 0.2]\n",
            " [4.6 3.1 1.5 0.2]\n",
            " [5.  3.6 1.4 0.2]\n",
            " [5.4 3.9 1.7 0.4]\n",
            " [4.6 3.4 1.4 0.3]\n",
            " [5.  3.4 1.5 0.2]\n",
            " [4.4 2.9 1.4 0.2]\n",
            " [4.9 3.1 1.5 0.1]]\n"
          ]
        }
      ]
    },
    {
      "cell_type": "markdown",
      "metadata": {
        "id": "89af17cc"
      },
      "source": [
        "## 31. Find the number and position of missing values in iris_2d's sepallength."
      ]
    },
    {
      "cell_type": "code",
      "metadata": {
        "colab": {
          "base_uri": "https://localhost:8080/"
        },
        "id": "00a9fcbc",
        "outputId": "c4363591-46a8-4aeb-fe8d-b3a971194572"
      },
      "source": [
        "sepallength_with_nan = iris_nan[:, 0] # Extract the sepallength column which might have NaNs\n",
        "\n",
        "missing_values_mask = np.isnan(sepallength_with_nan)\n",
        "number_of_missing = np.sum(missing_values_mask)\n",
        "positions_of_missing = np.where(missing_values_mask)\n",
        "\n",
        "print(f\"Number of missing values in sepallength: {number_of_missing}\")\n",
        "print(f\"Positions of missing values in sepallength: {positions_of_missing}\")"
      ],
      "execution_count": 45,
      "outputs": [
        {
          "output_type": "stream",
          "name": "stdout",
          "text": [
            "Number of missing values in sepallength: 4\n",
            "Positions of missing values in sepallength: (array([  2,  33, 110, 141]),)\n"
          ]
        }
      ]
    },
    {
      "cell_type": "markdown",
      "metadata": {
        "id": "eab9003d"
      },
      "source": [
        "## 32. Filter the rows of iris_2d that has petallength (3rd column) > 1.5 and sepallength (1st column) < 5.0."
      ]
    },
    {
      "cell_type": "code",
      "metadata": {
        "colab": {
          "base_uri": "https://localhost:8080/"
        },
        "id": "cadc45d3",
        "outputId": "32caecfe-4d84-461a-b204-d2180f1bbe7c"
      },
      "source": [
        "filtered_rows = iris_2d[(iris_2d[:, 2] > 1.5) & (iris_2d[:, 0] < 5.0)]\n",
        "\n",
        "print(\"Filtered rows:\")\n",
        "print(filtered_rows)"
      ],
      "execution_count": 46,
      "outputs": [
        {
          "output_type": "stream",
          "name": "stdout",
          "text": [
            "Filtered rows:\n",
            "[[4.8 3.4 1.6 0.2]\n",
            " [4.8 3.4 1.9 0.2]\n",
            " [4.7 3.2 1.6 0.2]\n",
            " [4.8 3.1 1.6 0.2]\n",
            " [4.9 2.4 3.3 1. ]\n",
            " [4.9 2.5 4.5 1.7]]\n"
          ]
        }
      ]
    },
    {
      "cell_type": "markdown",
      "metadata": {
        "id": "2395cd3b"
      },
      "source": [
        "## 33. Select the rows of iris_2d that does not have any nan value."
      ]
    },
    {
      "cell_type": "code",
      "metadata": {
        "colab": {
          "base_uri": "https://localhost:8080/"
        },
        "id": "d44567cb",
        "outputId": "ca7848c9-1347-4230-e42c-6a11a4a60d15"
      },
      "source": [
        "# Select rows that do not contain any NaN values\n",
        "rows_without_nan = iris_nan[~np.isnan(iris_nan).any(axis=1)]\n",
        "\n",
        "print(\"Rows without NaN values (first 10 rows):\")\n",
        "print(rows_without_nan[:10])"
      ],
      "execution_count": 47,
      "outputs": [
        {
          "output_type": "stream",
          "name": "stdout",
          "text": [
            "Rows without NaN values (first 10 rows):\n",
            "[[5.1 3.5 1.4 0.2]\n",
            " [4.9 3.  1.4 0.2]\n",
            " [4.6 3.1 1.5 0.2]\n",
            " [5.  3.6 1.4 0.2]\n",
            " [5.4 3.9 1.7 0.4]\n",
            " [4.6 3.4 1.4 0.3]\n",
            " [5.  3.4 1.5 0.2]\n",
            " [4.4 2.9 1.4 0.2]\n",
            " [4.9 3.1 1.5 0.1]\n",
            " [5.4 3.7 1.5 0.2]]\n"
          ]
        }
      ]
    },
    {
      "cell_type": "markdown",
      "metadata": {
        "id": "4b343c2f"
      },
      "source": [
        "## 34. Find the correlation between SepalLength(1st column) and PetalLength(3rd column) in iris_2d."
      ]
    },
    {
      "cell_type": "code",
      "metadata": {
        "colab": {
          "base_uri": "https://localhost:8080/"
        },
        "id": "d876fe56",
        "outputId": "59eec077-2a3e-45a4-feb4-a60bf2055502"
      },
      "source": [
        "# Assuming iris_2d is available from previous steps\n",
        "sepallength = iris_2d[:, 0] # 1st column\n",
        "petallength = iris_2d[:, 2] # 3rd column\n",
        "\n",
        "correlation = np.corrcoef(sepallength, petallength)[0, 1]\n",
        "\n",
        "print(f\"Correlation between SepalLength and PetalLength: {correlation:.2f}\")"
      ],
      "execution_count": 48,
      "outputs": [
        {
          "output_type": "stream",
          "name": "stdout",
          "text": [
            "Correlation between SepalLength and PetalLength: 0.87\n"
          ]
        }
      ]
    },
    {
      "cell_type": "markdown",
      "metadata": {
        "id": "2027bf04"
      },
      "source": [
        "## 35. Find out if iris_2d has any missing values."
      ]
    },
    {
      "cell_type": "code",
      "metadata": {
        "colab": {
          "base_uri": "https://localhost:8080/"
        },
        "id": "19209493",
        "outputId": "31765536-f3d2-4dc2-c2c1-2b7f4685633d"
      },
      "source": [
        "has_missing = np.isnan(iris_nan).any()\n",
        "\n",
        "if has_missing:\n",
        "    print(\"The iris_nan array has missing values.\")\n",
        "else:\n",
        "    print(\"The iris_nan array does not have any missing values.\")"
      ],
      "execution_count": 49,
      "outputs": [
        {
          "output_type": "stream",
          "name": "stdout",
          "text": [
            "The iris_nan array has missing values.\n"
          ]
        }
      ]
    },
    {
      "cell_type": "markdown",
      "metadata": {
        "id": "9e93b691"
      },
      "source": [
        "## 36. Replace all occurrences of nan with 0 in numpy array."
      ]
    },
    {
      "cell_type": "code",
      "metadata": {
        "colab": {
          "base_uri": "https://localhost:8080/"
        },
        "id": "481944b4",
        "outputId": "bb760ab0-0c91-495b-cb06-e56b3111b1b7"
      },
      "source": [
        "# Create a copy to avoid modifying the original iris_nan array\n",
        "iris_filled = np.nan_to_num(iris_nan, nan=0)\n",
        "\n",
        "print(\"Iris dataset with NaN values replaced by 0 (first 10 rows):\")\n",
        "print(iris_filled[:10])"
      ],
      "execution_count": 50,
      "outputs": [
        {
          "output_type": "stream",
          "name": "stdout",
          "text": [
            "Iris dataset with NaN values replaced by 0 (first 10 rows):\n",
            "[[5.1 3.5 1.4 0.2]\n",
            " [4.9 3.  1.4 0.2]\n",
            " [0.  3.2 1.3 0.2]\n",
            " [4.6 3.1 1.5 0.2]\n",
            " [5.  3.6 1.4 0.2]\n",
            " [5.4 3.9 1.7 0.4]\n",
            " [4.6 3.4 1.4 0.3]\n",
            " [5.  3.4 1.5 0.2]\n",
            " [4.4 2.9 1.4 0.2]\n",
            " [4.9 3.1 1.5 0.1]]\n"
          ]
        }
      ]
    },
    {
      "cell_type": "markdown",
      "metadata": {
        "id": "65d7bf9d"
      },
      "source": [
        "## 37. Find the unique values and the count of unique values in iris's species"
      ]
    },
    {
      "cell_type": "code",
      "metadata": {
        "colab": {
          "base_uri": "https://localhost:8080/"
        },
        "id": "557c009f",
        "outputId": "2264ec04-cb2a-4021-bbd6-74e95b2e9ad6"
      },
      "source": [
        "unique_species, counts = np.unique(species, return_counts=True)\n",
        "\n",
        "print(\"Unique species:\", unique_species)\n",
        "print(\"Count of unique species:\", counts)"
      ],
      "execution_count": 51,
      "outputs": [
        {
          "output_type": "stream",
          "name": "stdout",
          "text": [
            "Unique species: [b'Iris-setosa' b'Iris-versicolor' b'Iris-virginica']\n",
            "Count of unique species: [50 50 50]\n"
          ]
        }
      ]
    }
  ]
}